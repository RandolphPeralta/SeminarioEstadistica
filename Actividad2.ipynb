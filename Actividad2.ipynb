{
 "cells": [
  {
   "cell_type": "markdown",
   "metadata": {},
   "source": [
    "# **Limpieza  y Exploración Base de datos** \n",
    "Durante el seminario de exploración de datos dirigido por el profesor Santiago Echeverry para el semillero GEA, se propuso como actividad inicial la creación de una base de datos compuesta por varias tablas. En esta segunda actividad, se llevó a cabo la limpieza de datos de la tabla **Víctimas de Acciones Bélicas** y de la tabla **Casos de Acciones Bélicas**, para posteriormente cargarla en el gestor de bases de datos PostgreSQL.\n"
   ]
  },
  {
   "cell_type": "code",
   "execution_count": 4,
   "metadata": {},
   "outputs": [
    {
     "name": "stderr",
     "output_type": "stream",
     "text": [
      "c:\\Users\\Usuario\\Downloads\\GEA\\Sara\\.env\\Lib\\site-packages\\openpyxl\\styles\\stylesheet.py:226: UserWarning: Workbook contains no default style, apply openpyxl's default\n",
      "  warn(\"Workbook contains no default style, apply openpyxl's default\")\n"
     ]
    }
   ],
   "source": [
    "import pandas as pd\n",
    "import numpy as np\n",
    "\n",
    "victimasAB_df = pd.read_excel('C:\\\\Users\\\\Usuario\\\\Downloads\\\\GEA\\\\sara\\\\VictimasAB_202309.xlsx')\n",
    "casosAB_df = pd.read_excel('C:\\\\Users\\\\Usuario\\\\Downloads\\\\GEA\\\\sara\\\\CasosAB_202309.xlsx')"
   ]
  },
  {
   "cell_type": "markdown",
   "metadata": {},
   "source": [
    "Inicialmente, se llevó a cabo una descripción de los atributos asociados a la entidades **VíctimasAB** y **CasosAB** con el objetivo de identificar los tipos de datos manejados y comprender su comportamiento en la base de datos. Para ello, se exportaron los datos y se empleó la función **info()** para realizar una exploración inicial. Esta exploración permitió visualizar la cantidad de variables y registros presentes, así como la cantidad de datos no faltantes por columna y el tipo de dato manejado por cada atributo. Es importante destacar que, por razones de practicidad en el código, se modificaron los nombres de algunas variables para facilitar su manejo.\n",
    "\n",
    "\n",
    "### **Tabla 1: Víctimas de Acciones Bélicas**\n",
    "La tabla **Víctimas de Acciones Bélicas** (nombre de archivo *victimasAB_df*) consta de **18 atributos** que han sido previamente descritos, y contiene un total de **49363 registros**.\n",
    "\n",
    "\n",
    "### **Tabla 2: Casos de Acciones Bélicas**\n",
    "La tabla **Casos de Acciones Bélicas** (nombre de archivo *casosAB_df*) consta de **40 atributos**, previamente descritos, y contiene un total de **37532 registros**.\n",
    "Los tipos de datos encontrados fueron: float64(2), int64(22), object(16).\n",
    "Se encontraron **10 atributos** con presencia de datos faltantes."
   ]
  },
  {
   "cell_type": "markdown",
   "metadata": {},
   "source": [
    "### *Renombramiento del nombre de las columnas*"
   ]
  },
  {
   "cell_type": "code",
   "execution_count": 17,
   "metadata": {},
   "outputs": [],
   "source": [
    "victimasAB_df.rename(columns={  'ID Caso':'id_caso', \n",
    "                              'Código DANE de Municipio':'cod_dane_mun',\n",
    "                              'Municipio':'municipio',\n",
    "                              'Departamento':'departamentos',\n",
    "                              'Año':'anho',\n",
    "                              'Mes':'mes',\n",
    "                              'Día':'dia',\n",
    "                              'ID Persona':'id_persona',\n",
    "                              'Sexo':'sexo',\n",
    "                              'Etnia':'etnia',\n",
    "                              'Ocupación':'ocupacion',\n",
    "                              'Calidad de la Víctima o la Baja':'cal_vict_baja',\n",
    "                              'Tipo de Población Vulnerable':'tipo_pob_vuln',\n",
    "                              'Fuerza o Grupo Armado Organizado al que Pertenece el Combatiente':'fuerza_grupo_arm',\n",
    "                              'Descripción Fuerza o Grupo Armado Organizado al que Pertenece el Combatiente':'desc_fuerza_arm',\n",
    "                              'Edad':'edad',\n",
    "                              'Latitud':'latitud',\n",
    "                              'Longitud':'longitud'},inplace=True)"
   ]
  },
  {
   "cell_type": "code",
   "execution_count": 19,
   "metadata": {},
   "outputs": [],
   "source": [
    "casosAB_df.rename(columns={'ID Caso':'id_caso',\n",
    "                           'ID Caso Relacionado':'id_caso_rela',\n",
    "                           'Año':'anho',\n",
    "                           'Mes':'mes',\n",
    "                           'Día':'dia',\n",
    "                           'Código DANE de Municipio':'cod_dane_mun',\n",
    "                           'Municipio':'municipio',\n",
    "                           'Departamento':'departamento',\n",
    "                           'Región':'region',\n",
    "                           'Modalidad':'modalidad',\n",
    "                           'Iniciativa':'inicitiva',\n",
    "                           'Tipo de Unidad Atacada':'tipo_uni_ata',\n",
    "                           'Grupo Armado 1':'grupo_arm_1',\n",
    "                           'Descripción Grupo Armado 1':'des_grupo_arm_1',\n",
    "                           'Grupo Armado 2':'grupo_arm_2',\n",
    "                           'Descripción Grupo Armado 2':'des_grupo_arm_2',\n",
    "                           'Grupo Armado 3':'grupo_arm_3',\n",
    "                           'Descripción Grupo Armado 3':'des_grupo_arm_3',\n",
    "                           'Lesionados Civiles':'lesionados_civiles',\n",
    "                           'Grupo al que Pertenecen los Capturados':'grupo_capturados',\n",
    "                           'Capturados':'capturados',\n",
    "                           'Lesionados Combatientes':'lensionados_combatientes',\n",
    "                           'Militares':'militares',\n",
    "                           'Policías':'policia',\n",
    "                           'Otras Fuerzas Armadas Estatales':'otras_fuerzas_a',\n",
    "                           'Agentes_del_Estado_Sin_Información':'agen_est_no_inf',\n",
    "                           'Total_Agentes_del_Estado':'total_agen_est',\n",
    "                           'Guerrilleros':'guerilleros',\n",
    "                           'Paramilitares':'paramilitares',\n",
    "                           'Grupos_Posdesmovilización':'grupos_posdesmo', \n",
    "                           'Combatientes_Sin_Información':'combatientes_no_inf',\n",
    "                           'Otros Grupos Armados Organizados':'otros_grupos_armados_o',\n",
    "                           'Total Combatientes de Grupos Armados Organizados':'total_combatientes_ga',\t\n",
    "                           'Total Combatientes':'total_combatientes',\t\n",
    "                           'Personas Sin Información':'persona_sinf',\n",
    "                           'Total Civiles':'total_civiles',\t\n",
    "                           'Ventaja Militar':'ventaja_militar',\t\n",
    "                           'Total de Víctimas del Caso':'total_victimas_caso',\n",
    "                           'Latitud':'latitud',\n",
    "                           'Longitud':'longitud'},inplace=True)"
   ]
  },
  {
   "cell_type": "markdown",
   "metadata": {},
   "source": [
    "### *Primer analisis exploratorio*"
   ]
  },
  {
   "cell_type": "markdown",
   "metadata": {},
   "source": [
    "#### **Tabla 1: Víctimas de Acciones Bélicas**"
   ]
  },
  {
   "cell_type": "code",
   "execution_count": 65,
   "metadata": {},
   "outputs": [
    {
     "name": "stdout",
     "output_type": "stream",
     "text": [
      "<class 'pandas.core.frame.DataFrame'>\n",
      "RangeIndex: 49363 entries, 0 to 49362\n",
      "Data columns (total 18 columns):\n",
      " #   Column            Non-Null Count  Dtype  \n",
      "---  ------            --------------  -----  \n",
      " 0   id_caso           49363 non-null  int64  \n",
      " 1   cod_dane_mun      49363 non-null  object \n",
      " 2   municipio         49363 non-null  object \n",
      " 3   departamentos     49363 non-null  object \n",
      " 4   anho              49363 non-null  int64  \n",
      " 5   mes               49363 non-null  int64  \n",
      " 6   dia               49363 non-null  int64  \n",
      " 7   id_persona        49363 non-null  int64  \n",
      " 8   sexo              49363 non-null  object \n",
      " 9   etnia             177 non-null    object \n",
      " 10  ocupacion         49363 non-null  object \n",
      " 11  cal_vict_baja     49363 non-null  object \n",
      " 12  tipo_pob_vuln     202 non-null    object \n",
      " 13  fuerza_grupo_arm  45065 non-null  object \n",
      " 14  desc_fuerza_arm   45065 non-null  object \n",
      " 15  edad              3190 non-null   object \n",
      " 16  latitud           49363 non-null  float64\n",
      " 17  longitud          49363 non-null  float64\n",
      "dtypes: float64(2), int64(5), object(11)\n",
      "memory usage: 6.8+ MB\n"
     ]
    }
   ],
   "source": [
    "victimasAB_df.info()"
   ]
  },
  {
   "cell_type": "markdown",
   "metadata": {},
   "source": [
    "#### **Tabla 2: Casos de Acciones Bélicas**"
   ]
  },
  {
   "cell_type": "code",
   "execution_count": 66,
   "metadata": {},
   "outputs": [
    {
     "name": "stdout",
     "output_type": "stream",
     "text": [
      "<class 'pandas.core.frame.DataFrame'>\n",
      "RangeIndex: 37532 entries, 0 to 37531\n",
      "Data columns (total 20 columns):\n",
      " #   Column              Non-Null Count  Dtype \n",
      "---  ------              --------------  ----- \n",
      " 0   id_caso             37532 non-null  int64 \n",
      " 1   id_caso_rela        4136 non-null   object\n",
      " 2   anho                37532 non-null  int64 \n",
      " 3   mes                 37532 non-null  int64 \n",
      " 4   dia                 37532 non-null  int64 \n",
      " 5   cod_dane_mun        37532 non-null  object\n",
      " 6   municipio           37532 non-null  object\n",
      " 7   departamento        37532 non-null  object\n",
      " 8   region              36930 non-null  object\n",
      " 9   modalidad           37532 non-null  object\n",
      " 10  inicitiva           37532 non-null  object\n",
      " 11  tipo_uni_ata        37492 non-null  object\n",
      " 12  grupo_arm_1         37531 non-null  object\n",
      " 13  des_grupo_arm_1     37516 non-null  object\n",
      " 14  grupo_arm_2         37531 non-null  object\n",
      " 15  des_grupo_arm_2     37531 non-null  object\n",
      " 16  grupo_arm_3         927 non-null    object\n",
      " 17  des_grupo_arm_3     927 non-null    object\n",
      " 18  lesionados_civiles  37532 non-null  int64 \n",
      " 19  grupo_capturados    2612 non-null   object\n",
      "dtypes: int64(5), object(15)\n",
      "memory usage: 5.7+ MB\n"
     ]
    }
   ],
   "source": [
    "casosAB_df[casosAB_df.columns[0:20]].info()"
   ]
  },
  {
   "cell_type": "code",
   "execution_count": 64,
   "metadata": {},
   "outputs": [
    {
     "name": "stdout",
     "output_type": "stream",
     "text": [
      "<class 'pandas.core.frame.DataFrame'>\n",
      "RangeIndex: 37532 entries, 0 to 37531\n",
      "Data columns (total 20 columns):\n",
      " #   Column                              Non-Null Count  Dtype  \n",
      "---  ------                              --------------  -----  \n",
      " 0   capturados                          37532 non-null  int64  \n",
      " 1   lensionados_combatientes            37532 non-null  int64  \n",
      " 2   militares                           37532 non-null  int64  \n",
      " 3   policia                             37532 non-null  int64  \n",
      " 4   otras_fuerzas_a                     37532 non-null  int64  \n",
      " 5   Agentes del Estado Sin Información  37532 non-null  int64  \n",
      " 6   Total Agentes del Estado            37532 non-null  int64  \n",
      " 7   guerilleros                         37532 non-null  int64  \n",
      " 8   paramilitares                       37532 non-null  int64  \n",
      " 9   Grupos Posdesmovilización           37532 non-null  int64  \n",
      " 10  Combatientes Sin Información        37532 non-null  int64  \n",
      " 11  otros_grupos_armados_o              37532 non-null  int64  \n",
      " 12  total_combatientes_ga               37532 non-null  int64  \n",
      " 13  total_combatientes                  37532 non-null  int64  \n",
      " 14  persona_sinf                        37532 non-null  int64  \n",
      " 15  total_civiles                       37532 non-null  int64  \n",
      " 16  ventaja_militar                     37532 non-null  object \n",
      " 17  total_victimas_caso                 37532 non-null  int64  \n",
      " 18  latitud                             37532 non-null  float64\n",
      " 19  longitud                            37532 non-null  float64\n",
      "dtypes: float64(2), int64(17), object(1)\n",
      "memory usage: 5.7+ MB\n"
     ]
    }
   ],
   "source": [
    "casosAB_df[casosAB_df.columns[20:41]].info()"
   ]
  },
  {
   "cell_type": "markdown",
   "metadata": {},
   "source": [
    "### *Descripción Variables*"
   ]
  },
  {
   "cell_type": "markdown",
   "metadata": {},
   "source": [
    "#### **Tabla 1: Víctimas de Acciones Bélicas**\n",
    "\n",
    "1. `id_caso`: Identificador único del caso.\n",
    "2. `cod_dane_mun`: Código DANE del municipio donde ocurrió la acción bélica.\n",
    "3. `municipio`: Nombre del municipio donde ocurrió la acción bélica.\n",
    "4. `departamentos`: Departamento donde ocurrió la acción bélica.\n",
    "5. `anho`: Año en que ocurrió la acción bélica.\n",
    "6. `mes`: Mes en que ocurrió la acción bélica.\n",
    "7. `dia`: Día en que ocurrió la acción bélica.\n",
    "8. `id_persona`: Identificador único de la persona afectada.\n",
    "9. `sexo`: Género de la persona afectada (HOMBRE, MUJER, SIN INFORMACIÓN).\n",
    "10. `etnia`: Etnia de la persona afectada. (INDIGENA,[NEGRO(A), MULATO(A), AFRODESCENDIENTE, AFROCOLOMBIANO(A)],[NINGÚN GRUPO ÉTNICO,RAIZAL DEL ARCHIPIÉLAGO DE SAN ANDRÉS, PROVIDENCIA Y SANTA CATALINA])\n",
    "11. `ocupacion`: Ocupación de la persona afectada (GUERRILLERO, FUERZA PÚBLICA, CAMPESINO, entre otras)\n",
    "12. `cal_vict_baja`: Calidad de la víctima o baja (COMBATIENTE, CIVIL).\n",
    "13. `tipo_pob_vuln`: Tipo de población vulnerable al que pertenece la persona afectada.\n",
    "14. `fuerza_grupo_arm`: Fuerza o grupo armado al que pertenece el combatiente.\n",
    "15. `desc_fuerza_arm`: Descripción de la fuerza o grupo armado al que pertenece el combatiente.\n",
    "16. `edad`: Edad de la persona afectada.\n",
    "17. `latitud`: Coordenada de latitud donde ocurrió la acción bélica.\n",
    "18. `longitud`: Coordenada de longitud donde ocurrió la acción bélica."
   ]
  },
  {
   "cell_type": "code",
   "execution_count": 20,
   "metadata": {},
   "outputs": [
    {
     "data": {
      "text/plain": [
       "municipio\n",
       "SIN INFORMACION           1456\n",
       "MEDELLIN                   870\n",
       "TAME                       761\n",
       "ARAUQUITA                  588\n",
       "VISTAHERMOSA               532\n",
       "ITUANGO                    500\n",
       "BOGOTA, D.C.               489\n",
       "SAN VICENTE DEL CAGUAN     486\n",
       "PUERTO RICO                473\n",
       "TURBO                      467\n",
       "dtype: int64"
      ]
     },
     "execution_count": 20,
     "metadata": {},
     "output_type": "execute_result"
    }
   ],
   "source": [
    "victimasAB_df.groupby('municipio').size().sort_values(ascending=False).head(10)"
   ]
  },
  {
   "cell_type": "code",
   "execution_count": null,
   "metadata": {},
   "outputs": [
    {
     "data": {
      "text/plain": [
       "departamentos\n",
       "ANTIOQUIA             10000\n",
       "META                   3401\n",
       "CAUCA                  2969\n",
       "SANTANDER              2922\n",
       "VALLE DEL CAUCA        2450\n",
       "NORTE DE SANTANDER     2389\n",
       "CAQUETA                2343\n",
       "ARAUCA                 2227\n",
       "TOLIMA                 2161\n",
       "HUILA                  1712\n",
       "dtype: int64"
      ]
     },
     "execution_count": 16,
     "metadata": {},
     "output_type": "execute_result"
    }
   ],
   "source": [
    "victimasAB_df.groupby('departamentos').size().sort_values(ascending=False).head(10)"
   ]
  },
  {
   "cell_type": "code",
   "execution_count": null,
   "metadata": {},
   "outputs": [
    {
     "data": {
      "text/plain": [
       "sexo\n",
       "HOMBRE             30100\n",
       "SIN INFORMACION    17972\n",
       "MUJER               1291\n",
       "dtype: int64"
      ]
     },
     "execution_count": 18,
     "metadata": {},
     "output_type": "execute_result"
    }
   ],
   "source": [
    "victimasAB_df.groupby('sexo').size().sort_values(ascending=False)"
   ]
  },
  {
   "cell_type": "code",
   "execution_count": null,
   "metadata": {},
   "outputs": [
    {
     "data": {
      "text/plain": [
       "etnia\n",
       "INDÍGENA                                                               120\n",
       "NEGRO(A), MULATO(A), AFRODESCENDIENTE, AFROCOLOMBIANO(A)                53\n",
       "NINGÚN GRUPO ÉTNICO                                                      2\n",
       "RAIZAL DEL ARCHIPIÉLAGO DE SAN ANDRÉS, PROVIDENCIA Y SANTA CATALINA      2\n",
       "dtype: int64"
      ]
     },
     "execution_count": 19,
     "metadata": {},
     "output_type": "execute_result"
    }
   ],
   "source": [
    "victimasAB_df.groupby('etnia').size().sort_values(ascending=False)"
   ]
  },
  {
   "cell_type": "code",
   "execution_count": null,
   "metadata": {},
   "outputs": [
    {
     "data": {
      "text/plain": [
       "ocupacion\n",
       "GUERRILLERO                            24864\n",
       "FUERZA PÚBLICA                         14991\n",
       "SIN INFORMACIÓN                         3773\n",
       "PARAMILITAR                             2382\n",
       "BANDOLERO                                755\n",
       "OTRA ¿CUÁL?                              634\n",
       "MIEMBRO DE GRUPO POSDESMOVILIZACIÓN      512\n",
       "CAMPESINO                                247\n",
       "DELINCUENTE                              169\n",
       "TRABAJADOR DE FINCA                      130\n",
       "dtype: int64"
      ]
     },
     "execution_count": 20,
     "metadata": {},
     "output_type": "execute_result"
    }
   ],
   "source": [
    "victimasAB_df.groupby('ocupacion').size().sort_values(ascending=False).head(10)"
   ]
  },
  {
   "cell_type": "code",
   "execution_count": null,
   "metadata": {},
   "outputs": [
    {
     "data": {
      "text/plain": [
       "cal_vict_baja\n",
       "COMBATIENTE        45080\n",
       "CIVIL               3953\n",
       "SIN INFORMACIÓN      330\n",
       "dtype: int64"
      ]
     },
     "execution_count": 21,
     "metadata": {},
     "output_type": "execute_result"
    }
   ],
   "source": [
    "victimasAB_df.groupby('cal_vict_baja').size().sort_values(ascending=False)"
   ]
  },
  {
   "cell_type": "code",
   "execution_count": null,
   "metadata": {},
   "outputs": [
    {
     "data": {
      "text/plain": [
       "tipo_pob_vuln\n",
       "OTRA ¿CUÁL?                       32\n",
       "FAMILIAR DE COMBATIENTE           26\n",
       "EXMILITAR                         18\n",
       "FUNCIONARIO JUDICIAL              16\n",
       "DESMOVILIZADO                     15\n",
       "MAESTRO O EDUCADOR                13\n",
       "FAMILIAR DE PERSONA VULNERABLE    12\n",
       "LÍDER COMUNITARIO                 11\n",
       "MILITANTE POLÍTICO                10\n",
       "EXPOLICÍA                          8\n",
       "dtype: int64"
      ]
     },
     "execution_count": 22,
     "metadata": {},
     "output_type": "execute_result"
    }
   ],
   "source": [
    "victimasAB_df.groupby('tipo_pob_vuln').size().sort_values(ascending=False).head(10)"
   ]
  },
  {
   "cell_type": "code",
   "execution_count": null,
   "metadata": {},
   "outputs": [
    {
     "data": {
      "text/plain": [
       "fuerza_grupo_arm\n",
       "GUERRILLA                       24935\n",
       "AGENTE DEL ESTADO               14941\n",
       "GRUPO PARAMILITAR                2412\n",
       "BANDOLERISMO                     1196\n",
       "DESCONOCIDO                       653\n",
       "GRUPO POSDESMOVILIZACIÓN          509\n",
       "GRUPO ARMADO NO IDENTIFICADO      258\n",
       "AGENTE EXTRANJERO                  98\n",
       "GRUPO ARMADO NO DIRIMIDO           27\n",
       "OTRO ¿CUÁL?                        19\n",
       "dtype: int64"
      ]
     },
     "execution_count": 23,
     "metadata": {},
     "output_type": "execute_result"
    }
   ],
   "source": [
    "victimasAB_df.groupby('fuerza_grupo_arm').size().sort_values(ascending=False).head(10)"
   ]
  },
  {
   "cell_type": "code",
   "execution_count": null,
   "metadata": {},
   "outputs": [
    {
     "data": {
      "text/plain": [
       "desc_fuerza_arm\n",
       "FARC                                   15330\n",
       "EJÉRCITO NACIONAL                       9410\n",
       "ELN                                     5256\n",
       "POLICÍA NACIONAL                        4954\n",
       "NO IDENTIFICADO                         1673\n",
       "AUTODEFENSAS UNIDAS DE COLOMBIA AUC     1473\n",
       "NO IDENTIFICADA                         1036\n",
       "NO APLICA                                942\n",
       "EPL                                      778\n",
       "M19                                      734\n",
       "dtype: int64"
      ]
     },
     "execution_count": 24,
     "metadata": {},
     "output_type": "execute_result"
    }
   ],
   "source": [
    "victimasAB_df.groupby('desc_fuerza_arm').size().sort_values(ascending=False).head(10)"
   ]
  },
  {
   "cell_type": "code",
   "execution_count": 26,
   "metadata": {},
   "outputs": [
    {
     "data": {
      "text/plain": [
       "edad\n",
       "JUVENTUD (18-28 AÑOS)            1680\n",
       "ADULTEZ (29-59 AÑOS)              976\n",
       "ADOLESCENCIA (12-17 AÑOS)         295\n",
       "INFANCIA (6-11 AÑOS)               97\n",
       "PERSONA MAYOR (60 AÑOS O MAS)      75\n",
       "PRIMERA INFANCIA (0-5 AÑOS)        67\n",
       "dtype: int64"
      ]
     },
     "execution_count": 26,
     "metadata": {},
     "output_type": "execute_result"
    }
   ],
   "source": [
    "victimasAB_df.groupby('edad').size().sort_values(ascending=False)"
   ]
  },
  {
   "cell_type": "markdown",
   "metadata": {},
   "source": [
    "\n",
    "#### **Tabla 2: Casos de Acciones Bélicas**\n",
    "\n",
    "1. `id_caso`: Identificador único del caso.\n",
    "2. `id_caso_rela`: Identificador único del caso relacionado.\n",
    "3. `anho`: Año en que ocurrió el caso.\n",
    "4. `mes`: Mes en que ocurrió el caso.\n",
    "5. `dia`: Día en que ocurrió el caso.\n",
    "6. `cod_dane_mun`: Código DANE del municipio donde ocurrió el caso.\n",
    "7. `municipio`: Nombre del municipio donde ocurrió el caso.\n",
    "8. `departamento`: Departamento donde ocurrió el caso.\n",
    "9. `region`: Región donde ocurrió el caso.\n",
    "10. `modalidad`: Modalidad del caso.\n",
    "11. `inicitiva`: Iniciativa del caso.\n",
    "12. `tipo_uni_ata`: Tipo de unidad atacada en el caso.\n",
    "13. `grupo_arm_1`: Grupo armado principal involucrado en el caso.\n",
    "14. `des_grupo_arm_1`: Descripción del grupo armado principal.\n",
    "15. `grupo_arm_2`: Segundo grupo armado involucrado en el caso.\n",
    "16. `des_grupo_arm_2`: Descripción del segundo grupo armado.\n",
    "17. `grupo_arm_3`: Tercer grupo armado involucrado en el caso.\n",
    "18. `des_grupo_arm_3`: Descripción del tercer grupo armado.\n",
    "19. `lesionados_civiles`: Número de civiles lesionados en el caso.\n",
    "20. `grupo_capturados`: Grupo al que pertenecen los capturados en el caso.\n",
    "21. `capturados`: Número de personas capturadas en el caso.\n",
    "22. `lensionados_combatientes`: Número de combatientes lesionados en el caso.\n",
    "23. `militares`: Número de militares afectados en el caso.\n",
    "24. `policia`: Número de policías afectados en el caso.\n",
    "25. `otras_fuerzas_a`: Número de otras fuerzas armadas estatales afectadas en el caso.\n",
    "26. `agen_est_no_inf`: Número de agentes del estado sin información en el caso.\n",
    "27. `total_agen_est`: Total de agentes del estado en el caso.\n",
    "28. `guerilleros`: Número de guerrilleros afectados en el caso.\n",
    "29. `paramilitares`: Número de paramilitares afectados en el caso.\n",
    "30. `grupos_posdesmo`: Número de grupos posdesmovilización afectados en el caso.\n",
    "31. `combatientes_no_inf`: Número de combatientes sin información en el caso.\n",
    "32. `otros_grupos_armados_o`: Número de otros grupos armados organizados afectados en el caso.\n",
    "33. `total_combatientes_ga`: Total de combatientes de grupos armados organizados involucrados en el caso.\n",
    "34. `total_combatientes`: Total de combatientes involucrados en el caso.\n",
    "35. `persona_sinf`: Número de personas sin información en el caso.\n",
    "36. `total_civiles`: Total de civiles afectados en el caso.\n",
    "37. `ventaja_militar`: Indicador de si hubo ventaja militar en el caso.\n",
    "38. `total_victimas_caso`: Total de víctimas en el caso.\n",
    "39. `latitud`: Coordenada de latitud donde ocurrió el caso.\n",
    "40. `longitud`: Coordenada de longitud donde ocurrió el caso."
   ]
  },
  {
   "cell_type": "markdown",
   "metadata": {},
   "source": [
    "### *Valores faltantes*"
   ]
  },
  {
   "cell_type": "markdown",
   "metadata": {},
   "source": [
    "Existen diversos tipos de datos faltantes en la información. Por un lado tenemos para los campos de municipio, sexo, tipo de víctima, entre otros donde encontramos registros con la etiqueta \"SIN INFORMACIÓN\". Asimismo, en los campos correspondientes a año, mes y día, encontramos registros con valores como \"0000\" y \"00\" (que Python interpreta únicamente como 0). Además, hay registros que están completamente en blanco, lo que conocemos como valores NA o NULL. \n",
    "**Este analisis aplica para ambas tablas. "
   ]
  },
  {
   "cell_type": "markdown",
   "metadata": {},
   "source": [
    "#### **Tabla 1: Víctimas de Acciones Bélicas**"
   ]
  },
  {
   "cell_type": "markdown",
   "metadata": {},
   "source": [
    "Se han registrado un total de **153116 datos faltantes**. Al analizar los registros, observamos que todos ellos tienen al menos un dato faltante."
   ]
  },
  {
   "cell_type": "code",
   "execution_count": 8,
   "metadata": {},
   "outputs": [
    {
     "name": "stdout",
     "output_type": "stream",
     "text": [
      "49363\n"
     ]
    }
   ],
   "source": [
    "registros_na = victimasAB_df.isna().any(axis=1).sum() \n",
    "print(registros_na)"
   ]
  },
  {
   "cell_type": "code",
   "execution_count": 9,
   "metadata": {},
   "outputs": [
    {
     "name": "stdout",
     "output_type": "stream",
     "text": [
      "153116\n"
     ]
    }
   ],
   "source": [
    "print(victimasAB_df.isna().sum().sum())"
   ]
  },
  {
   "cell_type": "code",
   "execution_count": 10,
   "metadata": {},
   "outputs": [
    {
     "name": "stdout",
     "output_type": "stream",
     "text": [
      "ID Caso                                                                         0.000000\n",
      "Código DANE de Municipio                                                        0.000000\n",
      "Municipio                                                                       0.000000\n",
      "Departamento                                                                    0.000000\n",
      "Año                                                                             0.000000\n",
      "Mes                                                                             0.000000\n",
      "Día                                                                             0.000000\n",
      "ID Persona                                                                      0.000000\n",
      "Sexo                                                                            0.000000\n",
      "Etnia                                                                           0.996414\n",
      "Ocupación                                                                       0.000000\n",
      "Calidad de la Víctima o la Baja                                                 0.000000\n",
      "Tipo de Población Vulnerable                                                    0.995908\n",
      "Fuerza o Grupo Armado Organizado al que Pertenece el Combatiente                0.087069\n",
      "Descripción Fuerza o Grupo Armado Organizado al que Pertenece el Combatiente    0.087069\n",
      "Edad                                                                            0.935377\n",
      "Latitud                                                                         0.000000\n",
      "Longitud                                                                        0.000000\n",
      "dtype: float64\n"
     ]
    }
   ],
   "source": [
    "proporcion_na_por_columna = (victimasAB_df.isna().sum(axis=0))/(victimasAB_df.shape[0])\n",
    "print(proporcion_na_por_columna)"
   ]
  },
  {
   "cell_type": "markdown",
   "metadata": {},
   "source": [
    "Vamos a unificar el formato de tipo de datos faltante, es decir, pasaremos  todos los datos NaN (dato faltante de pandas) a None(datos faltante de python). "
   ]
  },
  {
   "cell_type": "code",
   "execution_count": 11,
   "metadata": {},
   "outputs": [],
   "source": [
    "def convertir_nan_a_none(df):\n",
    "    \"\"\"\n",
    "    Convierte los valores 'NaN' a 'None' en un DataFrame de Pandas, pero conserva los valores numéricos.\n",
    "\n",
    "    Parámetros:\n",
    "        df (DataFrame): El DataFrame de Pandas a analizar y modificar.\n",
    "\n",
    "    Retorna:\n",
    "        DataFrame: Un nuevo DataFrame con los valores 'NaN' convertidos a 'None' en las columnas de tipo cadena.\n",
    "    \"\"\"\n",
    "    df_modificado = df.copy()\n",
    "    columnas_cadena = df_modificado.select_dtypes(include=['object']).columns\n",
    "\n",
    "    for columna in columnas_cadena:\n",
    "        df_modificado[columna] = df_modificado[columna].where(df_modificado[columna].notna(), None)\n",
    "    \n",
    "    return df_modificado"
   ]
  },
  {
   "cell_type": "code",
   "execution_count": 12,
   "metadata": {},
   "outputs": [
    {
     "name": "stdout",
     "output_type": "stream",
     "text": [
      "<class 'pandas.core.frame.DataFrame'>\n",
      "RangeIndex: 49363 entries, 0 to 49362\n",
      "Data columns (total 18 columns):\n",
      " #   Column                                                                        Non-Null Count  Dtype  \n",
      "---  ------                                                                        --------------  -----  \n",
      " 0   ID Caso                                                                       49363 non-null  int64  \n",
      " 1   Código DANE de Municipio                                                      49363 non-null  object \n",
      " 2   Municipio                                                                     49363 non-null  object \n",
      " 3   Departamento                                                                  49363 non-null  object \n",
      " 4   Año                                                                           49363 non-null  int64  \n",
      " 5   Mes                                                                           49363 non-null  int64  \n",
      " 6   Día                                                                           49363 non-null  int64  \n",
      " 7   ID Persona                                                                    49363 non-null  int64  \n",
      " 8   Sexo                                                                          49363 non-null  object \n",
      " 9   Etnia                                                                         177 non-null    object \n",
      " 10  Ocupación                                                                     49363 non-null  object \n",
      " 11  Calidad de la Víctima o la Baja                                               49363 non-null  object \n",
      " 12  Tipo de Población Vulnerable                                                  202 non-null    object \n",
      " 13  Fuerza o Grupo Armado Organizado al que Pertenece el Combatiente              45065 non-null  object \n",
      " 14  Descripción Fuerza o Grupo Armado Organizado al que Pertenece el Combatiente  45065 non-null  object \n",
      " 15  Edad                                                                          3190 non-null   object \n",
      " 16  Latitud                                                                       49363 non-null  float64\n",
      " 17  Longitud                                                                      49363 non-null  float64\n",
      "dtypes: float64(2), int64(5), object(11)\n",
      "memory usage: 6.8+ MB\n",
      "None\n"
     ]
    }
   ],
   "source": [
    "victimasAB_df1 = convertir_nan_a_none(victimasAB_df)\n",
    "print(victimasAB_df1.info())\n"
   ]
  },
  {
   "cell_type": "markdown",
   "metadata": {},
   "source": [
    "#### **Tabla 2: Casos de Acciones Bélicas**"
   ]
  },
  {
   "cell_type": "code",
   "execution_count": 13,
   "metadata": {},
   "outputs": [
    {
     "name": "stdout",
     "output_type": "stream",
     "text": [
      "37525\n"
     ]
    }
   ],
   "source": [
    "registros_na = casosAB_df.isna().any(axis=1).sum() \n",
    "print(registros_na)"
   ]
  },
  {
   "cell_type": "code",
   "execution_count": 14,
   "metadata": {},
   "outputs": [
    {
     "name": "stdout",
     "output_type": "stream",
     "text": [
      "142187\n"
     ]
    }
   ],
   "source": [
    "print(casosAB_df.isna().sum().sum())"
   ]
  },
  {
   "cell_type": "code",
   "execution_count": 15,
   "metadata": {},
   "outputs": [
    {
     "name": "stdout",
     "output_type": "stream",
     "text": [
      "ID Caso                                   0.000000\n",
      "ID Caso Relacionado                       0.889801\n",
      "Año                                       0.000000\n",
      "Mes                                       0.000000\n",
      "Día                                       0.000000\n",
      "Código DANE de Municipio                  0.000000\n",
      "Municipio                                 0.000000\n",
      "Departamento                              0.000000\n",
      "Región                                    0.016040\n",
      "Modalidad                                 0.000000\n",
      "Iniciativa                                0.000000\n",
      "Tipo de Unidad Atacada                    0.001066\n",
      "Grupo Armado 1                            0.000027\n",
      "Descripción Grupo Armado 1                0.000426\n",
      "Grupo Armado 2                            0.000027\n",
      "Descripción Grupo Armado 2                0.000027\n",
      "Grupo Armado 3                            0.975301\n",
      "Descripción Grupo Armado 3                0.975301\n",
      "Lesionados Civiles                        0.000000\n",
      "Grupo al que Pertenecen los Capturados    0.930406\n",
      "dtype: float64\n"
     ]
    }
   ],
   "source": [
    "proporcion_na_por_columna = (casosAB_df.isna().sum(axis=0))/(casosAB_df.shape[0])\n",
    "print(proporcion_na_por_columna.head(20))"
   ]
  },
  {
   "cell_type": "code",
   "execution_count": 75,
   "metadata": {},
   "outputs": [
    {
     "name": "stdout",
     "output_type": "stream",
     "text": [
      "<class 'pandas.core.frame.DataFrame'>\n",
      "RangeIndex: 37532 entries, 0 to 37531\n",
      "Data columns (total 40 columns):\n",
      " #   Column                              Non-Null Count  Dtype  \n",
      "---  ------                              --------------  -----  \n",
      " 0   id_caso                             37532 non-null  int64  \n",
      " 1   id_caso_rela                        4136 non-null   object \n",
      " 2   anho                                37532 non-null  int64  \n",
      " 3   mes                                 37532 non-null  int64  \n",
      " 4   dia                                 37532 non-null  int64  \n",
      " 5   cod_dane_mun                        37532 non-null  object \n",
      " 6   municipio                           37532 non-null  object \n",
      " 7   departamento                        37532 non-null  object \n",
      " 8   region                              36930 non-null  object \n",
      " 9   modalidad                           37532 non-null  object \n",
      " 10  inicitiva                           37532 non-null  object \n",
      " 11  tipo_uni_ata                        37492 non-null  object \n",
      " 12  grupo_arm_1                         37531 non-null  object \n",
      " 13  des_grupo_arm_1                     37516 non-null  object \n",
      " 14  grupo_arm_2                         37531 non-null  object \n",
      " 15  des_grupo_arm_2                     37531 non-null  object \n",
      " 16  grupo_arm_3                         927 non-null    object \n",
      " 17  des_grupo_arm_3                     927 non-null    object \n",
      " 18  lesionados_civiles                  37532 non-null  int64  \n",
      " 19  grupo_capturados                    2612 non-null   object \n",
      " 20  capturados                          37532 non-null  int64  \n",
      " 21  lensionados_combatientes            37532 non-null  int64  \n",
      " 22  militares                           37532 non-null  int64  \n",
      " 23  policia                             37532 non-null  int64  \n",
      " 24  otras_fuerzas_a                     37532 non-null  int64  \n",
      " 25  Agentes del Estado Sin Información  37532 non-null  int64  \n",
      " 26  Total Agentes del Estado            37532 non-null  int64  \n",
      " 27  guerilleros                         37532 non-null  int64  \n",
      " 28  paramilitares                       37532 non-null  int64  \n",
      " 29  Grupos Posdesmovilización           37532 non-null  int64  \n",
      " 30  Combatientes Sin Información        37532 non-null  int64  \n",
      " 31  otros_grupos_armados_o              37532 non-null  int64  \n",
      " 32  total_combatientes_ga               37532 non-null  int64  \n",
      " 33  total_combatientes                  37532 non-null  int64  \n",
      " 34  persona_sinf                        37532 non-null  int64  \n",
      " 35  total_civiles                       37532 non-null  int64  \n",
      " 36  ventaja_militar                     37532 non-null  object \n",
      " 37  total_victimas_caso                 37532 non-null  int64  \n",
      " 38  latitud                             37532 non-null  float64\n",
      " 39  longitud                            37532 non-null  float64\n",
      "dtypes: float64(2), int64(22), object(16)\n",
      "memory usage: 11.5+ MB\n",
      "None\n"
     ]
    }
   ],
   "source": [
    "casosAB_df1 = convertir_nan_a_none(casosAB_df)\n",
    "print(casosAB_df1.info())"
   ]
  },
  {
   "cell_type": "markdown",
   "metadata": {},
   "source": [
    "### *Resolviendo preguntas con la base de datos*"
   ]
  },
  {
   "cell_type": "markdown",
   "metadata": {},
   "source": [
    "1. ¿Cuántas acciones bélicas ocurrieron en cada municipio y departamento?\n",
    "2. ¿Cuál fue el año con mayor número de acciones bélicas?\n",
    "3. ¿Cuántas víctimas hubo en total y cuántas fueron hombres y mujeres?\n",
    "4. ¿Cuál es la distribución de edad de las víctimas?\n",
    "5. ¿Cuál es el grupo étnico más afectado por las acciones bélicas?\n",
    "6. ¿Cuál es la ocupación más común entre las víctimas?\n",
    "7. ¿Cuál es la distribución de género en cada grupo étnico?\n",
    "8. ¿Qué tipo de población vulnerable fue más afectada por las acciones bélicas?\n",
    "9. ¿Cuál fue el grupo armado más activo y en qué áreas?\n",
    "10. ¿Hay alguna tendencia temporal en el número de acciones bélicas?\n",
    "11. ¿Cuál es la distribución geográfica de las acciones bélicas?\n",
    "12. ¿Existe alguna relación entre la edad de las víctimas y el tipo de población vulnerable al que pertenecen?\n",
    "13. ¿Cuál es la relación entre la ocupación de las víctimas y la fuerza o grupo armado al que pertenecen?\n",
    "14. ¿Hay alguna correlación entre la calidad de la víctima y la descripción de la fuerza o grupo armado al que pertenecen?\n"
   ]
  },
  {
   "cell_type": "markdown",
   "metadata": {},
   "source": [
    "#### **Pregunta 1: ¿Cuántas acciones bélicas ocurrieron en cada municipio y departamento?**\n",
    "En nuestra base de datos, contamos con numerosos municipios. Por ende, para abordar esta pregunta, nos enfocaremos en los 10 municipios con mayor cantidad de víctimas de acciones bélicas, clasificados por municipio y departamento. Presentaremos los resultados a través de una tabla y un gráfico de frecuencias.\n",
    "\n",
    "Destacamos que, entre los resultados, la ciudad de Medellín, ubicada en el departamento de Antioquia, registra el mayor número de victimas, con un total de 870 registros. Además, observamos que Antioquia es el departamento más recurrente en el top 10."
   ]
  },
  {
   "cell_type": "code",
   "execution_count": 42,
   "metadata": {},
   "outputs": [
    {
     "name": "stdout",
     "output_type": "stream",
     "text": [
      "                municipio    departamentos  Numero_de_Acciones\n",
      "0                MEDELLIN        ANTIOQUIA                 870\n",
      "1                    TAME           ARAUCA                 761\n",
      "2               ARAUQUITA           ARAUCA                 588\n",
      "3            VISTAHERMOSA             META                 532\n",
      "4                 ITUANGO        ANTIOQUIA                 500\n",
      "5            BOGOTA, D.C.    BOGOTA, D. C.                 489\n",
      "6  SAN VICENTE DEL CAGUAN          CAQUETA                 486\n",
      "7                   TURBO        ANTIOQUIA                 467\n",
      "8                    CALI  VALLE DEL CAUCA                 412\n",
      "9                   URIBE             META                 411\n"
     ]
    }
   ],
   "source": [
    "acciones_por_municipio_departamento = victimasAB_df.groupby(['municipio', 'departamentos']).size().sort_values(ascending=False).reset_index(name='Numero_de_Acciones').head(10)\n",
    "print(acciones_por_municipio_departamento)"
   ]
  },
  {
   "cell_type": "code",
   "execution_count": 32,
   "metadata": {},
   "outputs": [
    {
     "name": "stderr",
     "output_type": "stream",
     "text": [
      "C:\\Users\\Usuario\\AppData\\Local\\Temp\\ipykernel_13440\\3840193567.py:6: FutureWarning: \n",
      "\n",
      "Passing `palette` without assigning `hue` is deprecated and will be removed in v0.14.0. Assign the `y` variable to `hue` and set `legend=False` for the same effect.\n",
      "\n",
      "  sns.barplot(x='Numero_de_Acciones', y='municipio', data=acciones_por_municipio_departamento, palette='viridis')\n"
     ]
    },
    {
     "data": {
      "image/png": "[encoded data removed]",
      "text/plain": [
       "<Figure size 1000x600 with 1 Axes>"
      ]
     },
     "metadata": {},
     "output_type": "display_data"
    }
   ],
   "source": [
    "import seaborn as sns\n",
    "import matplotlib.pyplot as plt\n",
    "\n",
    "plt.figure(figsize=(10, 6))\n",
    "sns.barplot(x='Numero_de_Acciones', y='municipio', data=acciones_por_municipio_departamento, palette='viridis')\n",
    "plt.xlabel('Número de Acciones Bélicas')\n",
    "plt.ylabel('Municipio')\n",
    "plt.title('Top 10 Municipios con Mayor Número de Acciones Bélicas')\n",
    "plt.show()\n"
   ]
  },
  {
   "cell_type": "markdown",
   "metadata": {},
   "source": [
    "#### **Pregunta 2 : ¿Cuál fue el año con mayor número de acciones bélicas?**\n",
    "El año con el mayor número de acciones bélicas fue 2002, con un total de 4553 casos de víctimas registrados. Sin embargo, al realizar un análisis más detallado, se observa que el intervalo de tiempo comprendido entre 2001 y 2003 exhibió el pico más alto de reportes."
   ]
  },
  {
   "cell_type": "code",
   "execution_count": 39,
   "metadata": {},
   "outputs": [
    {
     "name": "stdout",
     "output_type": "stream",
     "text": [
      "    anho  Numero_de_Acciones\n",
      "0   2002                4553\n",
      "1   2003                3742\n",
      "2   2001                3595\n",
      "3   2000                1916\n",
      "4   1992                1784\n",
      "..   ...                 ...\n",
      "62  1967                  67\n",
      "63  1980                  63\n",
      "64  1976                  60\n",
      "65  2016                  59\n",
      "66  1978                  48\n",
      "\n",
      "[67 rows x 2 columns]\n"
     ]
    }
   ],
   "source": [
    "acciones_por_año = victimasAB_df.groupby('anho').size().sort_values(ascending=False).reset_index(name='Numero_de_Acciones')\n",
    "print(acciones_por_año)"
   ]
  },
  {
   "cell_type": "code",
   "execution_count": 41,
   "metadata": {},
   "outputs": [
    {
     "name": "stderr",
     "output_type": "stream",
     "text": [
      "C:\\Users\\Usuario\\AppData\\Local\\Temp\\ipykernel_13440\\350714303.py:2: FutureWarning: \n",
      "\n",
      "Passing `palette` without assigning `hue` is deprecated and will be removed in v0.14.0. Assign the `x` variable to `hue` and set `legend=False` for the same effect.\n",
      "\n",
      "  sns.barplot(x='anho', y='Numero_de_Acciones', data=acciones_por_año, palette='viridis')\n"
     ]
    },
    {
     "data": {
      "image/png": "[encoded data removed]",
      "text/plain": [
       "<Figure size 1500x600 with 1 Axes>"
      ]
     },
     "metadata": {},
     "output_type": "display_data"
    }
   ],
   "source": [
    "plt.figure(figsize=(15, 6))\n",
    "sns.barplot(x='anho', y='Numero_de_Acciones', data=acciones_por_año, palette='viridis')\n",
    "plt.xlabel('Año')\n",
    "plt.ylabel('Número de Acciones Bélicas')\n",
    "plt.title('Número de Acciones Bélicas por Año')\n",
    "plt.xticks(rotation=45)\n",
    "plt.show()\n"
   ]
  },
  {
   "cell_type": "markdown",
   "metadata": {},
   "source": [
    "#### **Pregunta 3 : ¿Cuántas víctimas hubo en total y cuántas fueron hombres y mujeres?**\n",
    "En total, contamos con 49,363 víctimas, de las cuales 30,100 son hombres y 1,291 son mujeres. Incluso si ignoramos los datos faltantes en los registros (identificados como \"SIN INFORMACIÓN\"), se observa que la proporción indica que los hombres son los más afectados por esta forma de violencia."
   ]
  },
  {
   "cell_type": "code",
   "execution_count": 51,
   "metadata": {},
   "outputs": [
    {
     "name": "stdout",
     "output_type": "stream",
     "text": [
      "              sexo  Numero_de_Victimas\n",
      "0           HOMBRE               30100\n",
      "1            MUJER                1291\n",
      "2  SIN INFORMACION               17972\n"
     ]
    }
   ],
   "source": [
    "victimas_por_genero = victimasAB_df.groupby('sexo').size().reset_index(name='Numero_de_Victimas')\n",
    "print(victimas_por_genero)"
   ]
  },
  {
   "cell_type": "code",
   "execution_count": 49,
   "metadata": {},
   "outputs": [
    {
     "data": {
      "image/png": "[encoded data removed]",
      "text/plain": [
       "<Figure size 640x480 with 1 Axes>"
      ]
     },
     "metadata": {},
     "output_type": "display_data"
    }
   ],
   "source": [
    "victimas_por_genero = victimasAB_df.groupby('sexo').size().reset_index(name='Numero_de_Victimas')\n",
    "plt.pie(victimas_por_genero['Numero_de_Victimas'], labels=victimas_por_genero['sexo'], autopct='%1.1f%%', colors=['skyblue', 'lightcoral','pink'])\n",
    "plt.title('Proporción de Víctimas por Género')\n",
    "plt.show()"
   ]
  },
  {
   "cell_type": "markdown",
   "metadata": {},
   "source": [
    "si omitieramos los datos faltes para este caso tendriamos, el siguiente grafico "
   ]
  },
  {
   "cell_type": "code",
   "execution_count": 50,
   "metadata": {},
   "outputs": [
    {
     "data": {
      "image/png": "[encoded data removed]",
      "text/plain": [
       "<Figure size 800x600 with 1 Axes>"
      ]
     },
     "metadata": {},
     "output_type": "display_data"
    }
   ],
   "source": [
    "victimas_filtradas = victimasAB_df[victimasAB_df['sexo'] != 'SIN INFORMACION']\n",
    "victimas_por_genero = victimas_filtradas.groupby('sexo').size()\n",
    "plt.figure(figsize=(8, 6))\n",
    "plt.pie(victimas_por_genero, labels=victimas_por_genero.index, autopct='%1.1f%%', colors=['skyblue', 'lightcoral'])\n",
    "plt.title('Proporción de Víctimas por Género (excluyendo \"SIN INFORMACIÓN\")')\n",
    "plt.show()"
   ]
  },
  {
   "cell_type": "markdown",
   "metadata": {},
   "source": [
    "### *Exportación de la base de datos*"
   ]
  },
  {
   "cell_type": "markdown",
   "metadata": {},
   "source": [
    "Inicialmente, en la depuración de la base de datos, no se llevaron a cabo eliminaciones de registros o atributos. Esto realizado bajo el concepto de que la información eliminada podría ser de interés según el objetivo de la investigación, asi pues, se optó por una modalidad sencilla de limpieza de datos. Esto consistió en ajustar los nombres de las variables, eliminar datos atípicos (outliers), unificar el tipo de dato faltante (configurando todos al tipo None de Python) y, finalmente, eliminar caracteres especiales."
   ]
  },
  {
   "cell_type": "code",
   "execution_count": 43,
   "metadata": {},
   "outputs": [],
   "source": [
    "victimasAB_df.to_csv('VictimasAB.csv', index=False)"
   ]
  }
 ],
 "metadata": {
  "kernelspec": {
   "display_name": "Python 3",
   "language": "python",
   "name": "python3"
  },
  "language_info": {
   "codemirror_mode": {
    "name": "ipython",
    "version": 3
   },
   "file_extension": ".py",
   "mimetype": "text/x-python",
   "name": "python",
   "nbconvert_exporter": "python",
   "pygments_lexer": "ipython3",
   "version": "3.12.2"
  }
 },
 "nbformat": 4,
 "nbformat_minor": 2
}
